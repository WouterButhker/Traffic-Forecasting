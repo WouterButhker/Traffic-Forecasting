{
 "cells": [
  {
   "cell_type": "code",
   "execution_count": 5,
   "metadata": {},
   "outputs": [],
   "source": [
    "import pandas as pd\n",
    "import numpy as np\n",
    "import os\n",
    "import typing\n",
    "import matplotlib.pyplot as plt\n",
    "import datetime\n",
    "import tensorflow as tf\n",
    "from tensorflow import keras\n",
    "from sklearn.model_selection import train_test_split\n",
    "from sklearn.preprocessing import MinMaxScaler, StandardScaler\n",
    "from sklearn.metrics import mean_squared_error, mean_absolute_percentage_error\n",
    "\n",
    "from keras.metrics import MeanRelativeError\n",
    "from keras.models import Sequential\n",
    "from keras.layers import LSTM, Dense, Reshape\n",
    "from keras.losses import MeanSquaredError\n",
    "from keras.optimizers import Adam"
   ]
  },
  {
   "cell_type": "code",
   "execution_count": 6,
   "metadata": {},
   "outputs": [],
   "source": [
    "DATA_PATH = 'data_cars/'\n",
    "all_files = os.listdir(DATA_PATH)"
   ]
  },
  {
   "cell_type": "code",
   "execution_count": 11,
   "metadata": {},
   "outputs": [
    {
     "name": "stdout",
     "output_type": "stream",
     "text": [
      "Reading file: K711.csv\n",
      "Finished reading file: K711.csv, shape = (2880, 31)\n",
      "Reading file: K701.csv\n",
      "Finished reading file: K701.csv, shape = (2880, 7)\n",
      "Reading file: K703.csv\n",
      "Finished reading file: K703.csv, shape = (2880, 10)\n",
      "Reading file: K702.csv\n",
      "Finished reading file: K702.csv, shape = (2880, 8)\n",
      "Reading file: K406.csv\n",
      "Finished reading file: K406.csv, shape = (2880, 8)\n",
      "Reading file: K405.csv\n",
      "Finished reading file: K405.csv, shape = (2880, 19)\n",
      "Reading file: K159.csv\n",
      "Finished reading file: K159.csv, shape = (2880, 11)\n",
      "Reading file: K140.csv\n",
      "Finished reading file: K140.csv, shape = (2880, 5)\n",
      "Reading file: K134.csv\n",
      "Finished reading file: K134.csv, shape = (2880, 7)\n",
      "Reading file: K120.csv\n",
      "Finished reading file: K120.csv, shape = (2880, 7)\n",
      "Reading file: K709.csv\n",
      "Finished reading file: K709.csv, shape = (2880, 17)\n"
     ]
    }
   ],
   "source": [
    "all_dataframes = []\n",
    "number_of_files = 100\n",
    "number_of_sensors = None\n",
    "\n",
    "for index, file in enumerate(all_files):\n",
    "    if index == number_of_files:\n",
    "        break\n",
    "    print(f\"Reading file: {file}\")\n",
    "    file_name = file.split('.')[0]\n",
    "    df = pd.read_csv(DATA_PATH + file, sep=';')\n",
    "\n",
    "    df['date'] = pd.to_datetime(df[file_name], format='%Y-%m-%d %H:%M')\n",
    "    df = df.drop(columns=[file_name])\n",
    "\n",
    "    df = df.set_index('date')\n",
    "    df.columns = [f\"{file_name}_{col}\" for col in df.columns if col != 'date']\n",
    "    if number_of_sensors:\n",
    "        all_dataframes.append(df[df.columns[:number_of_sensors]])\n",
    "        # all_dataframes.append(df[df.columns[4:number_of_sensors+4]])\n",
    "    else:\n",
    "        all_dataframes.append(df)\n",
    "    print(f\"Finished reading file: {file}, shape = {df.shape}\")\n",
    "\n",
    "combined_df = pd.concat(all_dataframes, axis=1)\n",
    "combined_df.fillna(method='ffill', inplace=True)\n",
    "combined_df['hour'] = combined_df.index.hour\n",
    "combined_df['day_of_week'] = combined_df.index.dayofweek\n",
    "\n",
    "data = np.array(combined_df, dtype=float)\n",
    "scaler = StandardScaler()\n",
    "#Don't transform the time labels -> this way the scaler also works inversely on prediction data because shapes are different otherwise\n",
    "# data = np.append(scaler.fit_transform(data[:, :-2]), data[:, -2:], axis=1)"
   ]
  },
  {
   "cell_type": "code",
   "execution_count": 12,
   "metadata": {},
   "outputs": [
    {
     "data": {
      "text/plain": [
       "37.309806397306396"
      ]
     },
     "execution_count": 12,
     "metadata": {},
     "output_type": "execute_result"
    }
   ],
   "source": [
    "data.mean()"
   ]
  },
  {
   "cell_type": "code",
   "execution_count": null,
   "metadata": {},
   "outputs": [],
   "source": []
  }
 ],
 "metadata": {
  "kernelspec": {
   "display_name": "Python 3",
   "language": "python",
   "name": "python3"
  },
  "language_info": {
   "codemirror_mode": {
    "name": "ipython",
    "version": 3
   },
   "file_extension": ".py",
   "mimetype": "text/x-python",
   "name": "python",
   "nbconvert_exporter": "python",
   "pygments_lexer": "ipython3",
   "version": "3.10.10"
  },
  "orig_nbformat": 4
 },
 "nbformat": 4,
 "nbformat_minor": 2
}
