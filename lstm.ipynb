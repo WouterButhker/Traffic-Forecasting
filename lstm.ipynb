{
 "cells": [
  {
   "cell_type": "code",
   "execution_count": 34,
   "metadata": {},
   "outputs": [],
   "source": [
    "import pandas as pd\n",
    "import numpy as np\n",
    "import os\n",
    "import typing\n",
    "import matplotlib.pyplot as plt\n",
    "\n",
    "import tensorflow as tf\n",
    "from tensorflow import keras\n",
    "from sklearn.model_selection import train_test_split\n",
    "from sklearn.preprocessing import MinMaxScaler\n",
    "from sklearn.metrics import mean_squared_error\n",
    "\n",
    "from keras.models import Sequential\n",
    "from keras.layers import LSTM, Dense\n",
    "from keras.losses import MeanSquaredError\n",
    "from keras.optimizers import Adam\n",
    "from tensorflow.keras import Input, Model\n",
    "from tensorflow.keras.callbacks import EarlyStopping\n"
   ]
  },
  {
   "cell_type": "code",
   "execution_count": 35,
   "metadata": {},
   "outputs": [],
   "source": [
    "DATA_PATH = 'data_cars/'\n",
    "all_files = os.listdir(DATA_PATH)"
   ]
  },
  {
   "cell_type": "code",
   "execution_count": 36,
   "metadata": {},
   "outputs": [
    {
     "name": "stdout",
     "output_type": "stream",
     "text": [
      "Reading file: K711.csv\n",
      "Finished reading file: K711.csv, shape = (2880, 31)\n",
      "Reading file: K701.csv\n",
      "Finished reading file: K701.csv, shape = (2880, 7)\n",
      "Reading file: K703.csv\n",
      "Finished reading file: K703.csv, shape = (2880, 10)\n",
      "Reading file: K702.csv\n",
      "Finished reading file: K702.csv, shape = (2880, 8)\n",
      "Reading file: K406.csv\n",
      "Finished reading file: K406.csv, shape = (2880, 8)\n",
      "Reading file: K405.csv\n",
      "Finished reading file: K405.csv, shape = (2880, 19)\n",
      "Reading file: K159.csv\n",
      "Finished reading file: K159.csv, shape = (2880, 11)\n",
      "Reading file: K140.csv\n",
      "Finished reading file: K140.csv, shape = (2880, 5)\n",
      "Reading file: K134.csv\n",
      "Finished reading file: K134.csv, shape = (2880, 7)\n",
      "Reading file: K120.csv\n",
      "Finished reading file: K120.csv, shape = (2880, 7)\n",
      "Reading file: K709.csv\n",
      "Finished reading file: K709.csv, shape = (2880, 17)\n"
     ]
    }
   ],
   "source": [
    "all_dataframes = []\n",
    "for index, file in enumerate(all_files):\n",
    "    print(f\"Reading file: {file}\")\n",
    "    file_name = file.split('.')[0]\n",
    "    df = pd.read_csv(DATA_PATH + file, sep=';')\n",
    "\n",
    "    df['date'] = pd.to_datetime(df[file_name], format='%Y-%m-%d %H:%M')\n",
    "    df = df.drop(columns=[file_name])\n",
    "\n",
    "    df = df.set_index('date')\n",
    "    df.columns = [f\"{file_name}_{col}\" for col in df.columns if col != 'date']\n",
    "    all_dataframes.append(df)\n",
    "    print(f\"Finished reading file: {file}, shape = {df.shape}\")\n",
    "\n",
    "combined_df = pd.concat(all_dataframes, axis=1)\n",
    "combined_df.fillna(method='ffill', inplace=True)\n",
    "combined_df['hour'] = combined_df.index.hour\n",
    "combined_df['day_of_week'] = combined_df.index.dayofweek\n",
    "\n",
    "data = np.array(combined_df, dtype=float)\n",
    "scaler = MinMaxScaler(feature_range=(0, 1))\n",
    "#Don't transform the time labels -> this way the scaler also works inversely on prediction data because shapes are different otherwise\n",
    "data = np.append(scaler.fit_transform(data[:, :-2]), data[:, -2:], axis=1)"
   ]
  },
  {
   "cell_type": "code",
   "execution_count": 37,
   "metadata": {},
   "outputs": [],
   "source": [
    "timestamps = combined_df.index"
   ]
  },
  {
   "cell_type": "code",
   "execution_count": 38,
   "metadata": {},
   "outputs": [],
   "source": [
    "dataset = combined_df.to_numpy()"
   ]
  },
  {
   "cell_type": "code",
   "execution_count": 39,
   "metadata": {},
   "outputs": [],
   "source": [
    "def splitSequence(seq, n_steps, future_steps=1, return_all_future=False):\n",
    "\n",
    "    #Declare X and y as empty list\n",
    "    X = []\n",
    "    y = []\n",
    "\n",
    "    for i in range(len(seq)):\n",
    "        #get the last index for input sequence and first index for future sequence\n",
    "        lastIndex = i + n_steps\n",
    "        futureIndex = lastIndex + future_steps\n",
    "\n",
    "        #if futureIndex is greater than length of sequence then break\n",
    "        if futureIndex > len(seq) - 1:\n",
    "            break\n",
    "\n",
    "        # Create input and output sequence\n",
    "        # Last 2 columns are time of day and day of week\n",
    "        seq_X = seq[i:lastIndex]\n",
    "\n",
    "        if return_all_future:\n",
    "            seq_y = seq[lastIndex:futureIndex, :-2]\n",
    "        else:\n",
    "            seq_y = seq[futureIndex - 1, :-2]\n",
    "\n",
    "        #append seq_X, seq_y in X and y list\n",
    "        X.append(seq_X)\n",
    "        y.append(seq_y)\n",
    "\n",
    "    #Convert X and y into numpy array\n",
    "    X = np.array(X)\n",
    "    y = np.array(y)\n",
    "\n",
    "    return X,y\n"
   ]
  },
  {
   "cell_type": "code",
   "execution_count": 40,
   "metadata": {},
   "outputs": [
    {
     "name": "stdout",
     "output_type": "stream",
     "text": [
      "(2015, 132)\n",
      "(288, 132)\n",
      "(577, 132)\n"
     ]
    }
   ],
   "source": [
    "num_of_steps = data.shape[0]\n",
    "train_size = 0.7\n",
    "val_size = 0.1\n",
    "\n",
    "num_train = int(num_of_steps * train_size)\n",
    "num_val = int(num_of_steps * val_size)\n",
    "\n",
    "train_set = data[:num_train]\n",
    "val_set = data[num_train:num_train + num_val]\n",
    "test_set = data[num_train + num_val:]\n",
    "\n",
    "print(train_set.shape)\n",
    "print(val_set.shape)\n",
    "print(test_set.shape)"
   ]
  },
  {
   "cell_type": "code",
   "execution_count": 41,
   "metadata": {},
   "outputs": [
    {
     "data": {
      "text/plain": [
       "((1990, 24, 132), (1990, 130))"
      ]
     },
     "execution_count": 41,
     "metadata": {},
     "output_type": "execute_result"
    }
   ],
   "source": [
    "input_sequence_length = 24\n",
    "x_train, y_train = splitSequence(train_set, input_sequence_length)\n",
    "x_val, y_val = splitSequence(val_set, input_sequence_length)\n",
    "x_test, y_test = splitSequence(test_set, input_sequence_length)\n",
    "x_train.shape, y_train.shape"
   ]
  },
  {
   "cell_type": "code",
   "execution_count": 42,
   "metadata": {},
   "outputs": [
    {
     "name": "stdout",
     "output_type": "stream",
     "text": [
      "Model: \"model_9\"\n",
      "_________________________________________________________________\n",
      " Layer (type)                Output Shape              Param #   \n",
      "=================================================================\n",
      " input_11 (InputLayer)       [(None, 24, 132)]         0         \n",
      "                                                                 \n",
      " lstm_20 (LSTM)              (None, 24, 128)           133632    \n",
      "                                                                 \n",
      " lstm_21 (LSTM)              (None, 128)               131584    \n",
      "                                                                 \n",
      " dense_9 (Dense)             (None, 130)               16770     \n",
      "                                                                 \n",
      "=================================================================\n",
      "Total params: 281,986\n",
      "Trainable params: 281,986\n",
      "Non-trainable params: 0\n",
      "_________________________________________________________________\n",
      "Epoch 1/5\n",
      "63/63 [==============================] - 3s 31ms/step - loss: 0.0226 - root_mean_squared_error: 0.1502 - val_loss: 0.0067 - val_root_mean_squared_error: 0.0819\n",
      "Epoch 2/5\n",
      "63/63 [==============================] - 1s 19ms/step - loss: 0.0067 - root_mean_squared_error: 0.0817 - val_loss: 0.0048 - val_root_mean_squared_error: 0.0696\n",
      "Epoch 3/5\n",
      "63/63 [==============================] - 1s 19ms/step - loss: 0.0053 - root_mean_squared_error: 0.0729 - val_loss: 0.0046 - val_root_mean_squared_error: 0.0675\n",
      "Epoch 4/5\n",
      "63/63 [==============================] - 1s 19ms/step - loss: 0.0048 - root_mean_squared_error: 0.0696 - val_loss: 0.0043 - val_root_mean_squared_error: 0.0657\n",
      "Epoch 5/5\n",
      "63/63 [==============================] - 1s 19ms/step - loss: 0.0046 - root_mean_squared_error: 0.0680 - val_loss: 0.0043 - val_root_mean_squared_error: 0.0658\n",
      "63/63 [==============================] - 1s 6ms/step\n",
      "18/18 [==============================] - 0s 7ms/step\n",
      "Train Score: 9.45 RMSE\n",
      "Test Score: 9.03 RMSE\n"
     ]
    }
   ],
   "source": [
    "\n",
    "#Add params to do optimizing at the top\n",
    "input_dim = data.shape[1]\n",
    "units = 128\n",
    "output_size = y_train.shape[1]\n",
    "\n",
    "keras_input = keras.Input((input_sequence_length, input_dim))\n",
    "#return sequences is necessary for sequential LSTM layers\n",
    "lstm1 = LSTM(units, return_sequences=True)(keras_input)\n",
    "lstm2 = LSTM(units)(lstm1)\n",
    "out = Dense(output_size)(lstm2)\n",
    "model = keras.models.Model(inputs=keras_input, outputs=out)\n",
    "model.summary()\n",
    "\n",
    "model.compile(\n",
    "    loss=MeanSquaredError(),\n",
    "    optimizer=Adam(learning_rate=0.001),\n",
    "    metrics=[keras.metrics.RootMeanSquaredError()],\n",
    ")\n",
    "\n",
    "model.fit(\n",
    "    x=x_train,\n",
    "    y=y_train,\n",
    "    validation_data=(x_val, y_val),\n",
    "    epochs=5,\n",
    "    #makes the training stop early if it notices no improvements on the validation set 10 times in a row, to prevent overfitting\n",
    "    callbacks=[keras.callbacks.EarlyStopping(patience=10)],\n",
    ")\n",
    "\n",
    "# make predictions\n",
    "trainPredict = model.predict(x_train)\n",
    "testPredict = model.predict(x_test)\n",
    "# invert predictions\n",
    "trainPredict = scaler.inverse_transform(trainPredict)\n",
    "trainY = scaler.inverse_transform(y_train)\n",
    "testPredict = scaler.inverse_transform(testPredict)\n",
    "testY = scaler.inverse_transform(y_test)\n",
    "# calculate root mean squared error\n",
    "trainScore = np.sqrt(mean_squared_error(trainY, trainPredict))\n",
    "print(f'Train Score: {trainScore:.2f} RMSE')\n",
    "testScore = np.sqrt(mean_squared_error(testY, testPredict))\n",
    "print(f'Test Score: {testScore:.2f} RMSE')"
   ]
  },
  {
   "cell_type": "code",
   "execution_count": 55,
   "metadata": {},
   "outputs": [
    {
     "name": "stdout",
     "output_type": "stream",
     "text": [
      "\n",
      "Evaluating model with input_sequence_length = 5, run 1\n",
      "Epoch 1/50\n",
      "63/63 [==============================] - ETA: 0s - loss: 0.0226 - root_mean_squared_error: 0.1504"
     ]
    }
   ],
   "source": [
    "def train_and_evaluate_model(input_sequence_length):\n",
    "    # Prepare data\n",
    "    x_train, y_train = splitSequence(train_set, input_sequence_length)\n",
    "    x_val, y_val = splitSequence(val_set, input_sequence_length)\n",
    "    x_test, y_test = splitSequence(test_set, input_sequence_length)\n",
    "    \n",
    "    # Define model\n",
    "    input_dim = data.shape[1]\n",
    "    units = 128\n",
    "    output_size = y_train.shape[1]\n",
    "\n",
    "    keras_input = Input((input_sequence_length, input_dim))\n",
    "    lstm1 = LSTM(units, return_sequences=True)(keras_input)\n",
    "    lstm2 = LSTM(units)(lstm1)\n",
    "    out = Dense(output_size)(lstm2)\n",
    "    model = Model(inputs=keras_input, outputs=out)\n",
    "    \n",
    "    model.compile(\n",
    "        loss=MeanSquaredError(),\n",
    "        optimizer=Adam(learning_rate=0.001),\n",
    "        metrics=['RootMeanSquaredError'],\n",
    "    )\n",
    "\n",
    "    # Train model\n",
    "    model.fit(\n",
    "        x=x_train,\n",
    "        y=y_train,\n",
    "        validation_data=(x_val, y_val),\n",
    "        epochs=50,\n",
    "        callbacks=[EarlyStopping(patience=10)],\n",
    "    )\n",
    "\n",
    "    # Make predictions\n",
    "    trainPredict = model.predict(x_train)\n",
    "    testPredict = model.predict(x_test)\n",
    "\n",
    "    # Invert predictions\n",
    "    trainPredict = scaler.inverse_transform(trainPredict)\n",
    "    trainY = scaler.inverse_transform(y_train)\n",
    "    testPredict = scaler.inverse_transform(testPredict)\n",
    "    testY = scaler.inverse_transform(y_test)\n",
    "\n",
    "    # Calculate root mean squared error\n",
    "    trainScore = np.sqrt(mean_squared_error(trainY, trainPredict))\n",
    "    testScore = np.sqrt(mean_squared_error(testY, testPredict))\n",
    "\n",
    "    print(f'Train Score: {trainScore:.2f} RMSE')\n",
    "    print(f'Test Score: {testScore:.2f} RMSE')\n",
    "\n",
    "    return trainScore, testScore\n",
    "\n",
    "# List of sequence lengths to try\n",
    "input_sequence_lengths = [i*5 for i in range(1, 20)]\n",
    "num_runs = 5\n",
    "results = []\n",
    "\n",
    "\n",
    "# Iterate over sequence lengths and train/evaluate model\n",
    "for input_sequence_length in input_sequence_lengths:\n",
    "    for run in range(num_runs):\n",
    "        print(f'\\nEvaluating model with input_sequence_length = {input_sequence_length}, run {run+1}')\n",
    "        trainScore, testScore = train_and_evaluate_model(input_sequence_length)\n",
    "        results.append({'input_sequence_length': input_sequence_length, 'run': run+1, 'trainScore': trainScore, 'testScore': testScore})\n"
   ]
  },
  {
   "cell_type": "code",
   "execution_count": 53,
   "metadata": {},
   "outputs": [],
   "source": [
    "results_df = pd.DataFrame(results)"
   ]
  },
  {
   "cell_type": "code",
   "execution_count": 54,
   "metadata": {},
   "outputs": [
    {
     "data": {
      "text/plain": [
       "<Axes: title={'center': 'Mean RMSE over 5 runs'}, xlabel='input_sequence_length'>"
      ]
     },
     "execution_count": 54,
     "metadata": {},
     "output_type": "execute_result"
    },
    {
     "data": {
      "image/png": "[encoded data removed]",
      "text/plain": [
       "<Figure size 640x480 with 1 Axes>"
      ]
     },
     "metadata": {},
     "output_type": "display_data"
    }
   ],
   "source": [
    "results_df.groupby(\"input_sequence_length\").mean().plot(\n",
    "    y=[\"trainScore\", \"testScore\"], title=f\"Mean RMSE over {num_runs} runs\"\n",
    ")"
   ]
  },
  {
   "cell_type": "code",
   "execution_count": null,
   "metadata": {},
   "outputs": [],
   "source": []
  }
 ],
 "metadata": {
  "kernelspec": {
   "display_name": "Python 3",
   "language": "python",
   "name": "python3"
  },
  "language_info": {
   "codemirror_mode": {
    "name": "ipython",
    "version": 3
   },
   "file_extension": ".py",
   "mimetype": "text/x-python",
   "name": "python",
   "nbconvert_exporter": "python",
   "pygments_lexer": "ipython3",
   "version": "3.10.10"
  },
  "orig_nbformat": 4
 },
 "nbformat": 4,
 "nbformat_minor": 2
}
