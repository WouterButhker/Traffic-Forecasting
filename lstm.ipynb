{
 "cells": [
  {
   "cell_type": "code",
   "execution_count": 15,
   "metadata": {},
   "outputs": [],
   "source": [
    "import pandas as pd\n",
    "import numpy as np\n",
    "import os\n",
    "import typing\n",
    "import matplotlib.pyplot as plt\n",
    "\n",
    "import tensorflow as tf\n",
    "from tensorflow import keras\n",
    "from sklearn.model_selection import train_test_split\n",
    "from sklearn.preprocessing import MinMaxScaler, StandardScaler\n",
    "from sklearn.metrics import mean_squared_error\n",
    "\n",
    "from keras.models import Sequential\n",
    "from keras.layers import LSTM, Dense\n",
    "from keras.losses import MeanSquaredError\n",
    "from keras.optimizers import Adam"
   ]
  },
  {
   "cell_type": "code",
   "execution_count": 3,
   "metadata": {},
   "outputs": [],
   "source": [
    "DATA_PATH = 'data_cars/'\n",
    "all_files = os.listdir(DATA_PATH)"
   ]
  },
  {
   "cell_type": "code",
   "execution_count": 10,
   "metadata": {},
   "outputs": [
    {
     "name": "stdout",
     "output_type": "stream",
     "text": [
      "Reading file: K711.csv\n",
      "Finished reading file: K711.csv, shape = (2880, 31)\n",
      "Reading file: K701.csv\n",
      "Finished reading file: K701.csv, shape = (2880, 7)\n",
      "Reading file: K703.csv\n",
      "Finished reading file: K703.csv, shape = (2880, 10)\n",
      "Reading file: K702.csv\n",
      "Finished reading file: K702.csv, shape = (2880, 8)\n",
      "Reading file: K406.csv\n",
      "Finished reading file: K406.csv, shape = (2880, 8)\n",
      "Reading file: K405.csv\n",
      "Finished reading file: K405.csv, shape = (2880, 19)\n",
      "Reading file: K159.csv\n",
      "Finished reading file: K159.csv, shape = (2880, 11)\n",
      "Reading file: K140.csv\n",
      "Finished reading file: K140.csv, shape = (2880, 5)\n",
      "Reading file: K134.csv\n",
      "Finished reading file: K134.csv, shape = (2880, 7)\n",
      "Reading file: K120.csv\n",
      "Finished reading file: K120.csv, shape = (2880, 7)\n",
      "Reading file: K709.csv\n",
      "Finished reading file: K709.csv, shape = (2880, 17)\n"
     ]
    }
   ],
   "source": [
    "all_dataframes = []\n",
    "for index, file in enumerate(all_files):\n",
    "    print(f\"Reading file: {file}\")\n",
    "    file_name = file.split('.')[0]\n",
    "    df = pd.read_csv(DATA_PATH + file, sep=';')\n",
    "\n",
    "    df['date'] = pd.to_datetime(df[file_name], format='%Y-%m-%d %H:%M')\n",
    "    df = df.drop(columns=[file_name])\n",
    "\n",
    "    df = df.set_index('date')\n",
    "    df.columns = [f\"{file_name}_{col}\" for col in df.columns if col != 'date']\n",
    "    all_dataframes.append(df)\n",
    "    print(f\"Finished reading file: {file}, shape = {df.shape}\")\n",
    "\n",
    "combined_df = pd.concat(all_dataframes, axis=1)\n",
    "combined_df.fillna(method='ffill', inplace=True)\n",
    "combined_df['hour'] = combined_df.index.hour\n",
    "combined_df['day_of_week'] = combined_df.index.dayofweek\n",
    "\n",
    "data = np.array(combined_df, dtype=float)\n",
    "scaler = MinMaxScaler(feature_range=(0, 1))\n",
    "#Don't transform the time labels -> this way the scaler also works inversely on prediction data because shapes are different otherwise\n",
    "data = np.append(scaler.fit_transform(data[:, :-2]), data[:, -2:], axis=1)"
   ]
  },
  {
   "cell_type": "code",
   "execution_count": 25,
   "metadata": {},
   "outputs": [],
   "source": [
    "timestamps = combined_df.index"
   ]
  },
  {
   "cell_type": "code",
   "execution_count": 5,
   "metadata": {},
   "outputs": [],
   "source": [
    "dataset = combined_df.to_numpy()"
   ]
  },
  {
   "cell_type": "code",
   "execution_count": 11,
   "metadata": {},
   "outputs": [],
   "source": [
    "def splitSequence(seq, n_steps):\n",
    "\n",
    "    #Declare X and y as empty list\n",
    "    X = []\n",
    "    y = []\n",
    "\n",
    "    for i in range(len(seq)):\n",
    "        #get the last index\n",
    "        lastIndex = i + n_steps\n",
    "\n",
    "        #if lastIndex is greater than length of sequence then break\n",
    "        if lastIndex > len(seq) - 1:\n",
    "            break\n",
    "\n",
    "        # Create input and output sequence\n",
    "        # Last 2 columns are time of day and day of week\n",
    "        seq_X, seq_y = seq[i:lastIndex], seq[lastIndex, :-2]\n",
    "\n",
    "        #append seq_X, seq_y in X and y list\n",
    "        X.append(seq_X)\n",
    "        y.append(seq_y)\n",
    "        #Convert X and y into numpy array\n",
    "    X = np.array(X)\n",
    "    y = np.array(y)\n",
    "\n",
    "    return X,y"
   ]
  },
  {
   "cell_type": "code",
   "execution_count": 12,
   "metadata": {},
   "outputs": [
    {
     "name": "stdout",
     "output_type": "stream",
     "text": [
      "(2015, 132)\n",
      "(288, 132)\n",
      "(577, 132)\n"
     ]
    }
   ],
   "source": [
    "num_of_steps = data.shape[0]\n",
    "train_size = 0.7\n",
    "val_size = 0.1\n",
    "\n",
    "num_train = int(num_of_steps * train_size)\n",
    "num_val = int(num_of_steps * val_size)\n",
    "\n",
    "train_set = data[:num_train]\n",
    "val_set = data[num_train:num_train + num_val]\n",
    "test_set = data[num_train + num_val:]\n",
    "\n",
    "print(train_set.shape)\n",
    "print(val_set.shape)\n",
    "print(test_set.shape)"
   ]
  },
  {
   "cell_type": "code",
   "execution_count": 13,
   "metadata": {},
   "outputs": [
    {
     "data": {
      "text/plain": [
       "((1991, 24, 132), (1991, 130))"
      ]
     },
     "execution_count": 13,
     "metadata": {},
     "output_type": "execute_result"
    }
   ],
   "source": [
    "input_sequence_length = 24\n",
    "x_train, y_train = splitSequence(train_set, input_sequence_length)\n",
    "x_val, y_val = splitSequence(val_set, input_sequence_length)\n",
    "x_test, y_test = splitSequence(test_set, input_sequence_length)\n",
    "x_train.shape, y_train.shape"
   ]
  },
  {
   "cell_type": "code",
   "execution_count": 23,
   "metadata": {},
   "outputs": [
    {
     "name": "stdout",
     "output_type": "stream",
     "text": [
      "Model: \"model_5\"\n",
      "_________________________________________________________________\n",
      " Layer (type)                Output Shape              Param #   \n",
      "=================================================================\n",
      " input_6 (InputLayer)        [(None, 24, 132)]         0         \n",
      "                                                                 \n",
      " lstm_10 (LSTM)              (None, 24, 128)           133632    \n",
      "                                                                 \n",
      " lstm_11 (LSTM)              (None, 128)               131584    \n",
      "                                                                 \n",
      " dense_5 (Dense)             (None, 130)               16770     \n",
      "                                                                 \n",
      "=================================================================\n",
      "Total params: 281,986\n",
      "Trainable params: 281,986\n",
      "Non-trainable params: 0\n",
      "_________________________________________________________________\n",
      "Epoch 1/5\n",
      "63/63 [==============================] - 4s 32ms/step - loss: 0.0206 - root_mean_squared_error: 0.1435 - val_loss: 0.0061 - val_root_mean_squared_error: 0.0779\n",
      "Epoch 2/5\n",
      "63/63 [==============================] - 1s 20ms/step - loss: 0.0066 - root_mean_squared_error: 0.0814 - val_loss: 0.0050 - val_root_mean_squared_error: 0.0708\n",
      "Epoch 3/5\n",
      "63/63 [==============================] - 1s 19ms/step - loss: 0.0053 - root_mean_squared_error: 0.0731 - val_loss: 0.0050 - val_root_mean_squared_error: 0.0708\n",
      "Epoch 4/5\n",
      "63/63 [==============================] - 1s 19ms/step - loss: 0.0049 - root_mean_squared_error: 0.0702 - val_loss: 0.0045 - val_root_mean_squared_error: 0.0673\n",
      "Epoch 5/5\n",
      "63/63 [==============================] - 1s 18ms/step - loss: 0.0047 - root_mean_squared_error: 0.0684 - val_loss: 0.0042 - val_root_mean_squared_error: 0.0647\n",
      "63/63 [==============================] - 1s 6ms/step\n",
      "18/18 [==============================] - 0s 7ms/step\n",
      "Train Score: 9.21 RMSE\n",
      "Test Score: 8.82 RMSE\n"
     ]
    }
   ],
   "source": [
    "\n",
    "#Add params to do optimizing at the top\n",
    "input_dim = data.shape[1]\n",
    "units = 128\n",
    "output_size = y_train.shape[1]\n",
    "\n",
    "input = keras.Input((input_sequence_length, input_dim))\n",
    "#return sequences is necessary for sequential LSTM layers\n",
    "lstm1 = LSTM(units, return_sequences=True)(input)\n",
    "lstm2 = LSTM(units)(lstm1)\n",
    "out = Dense(output_size)(lstm2)\n",
    "model = keras.models.Model(inputs=input, outputs=out)\n",
    "model.summary()\n",
    "\n",
    "model.compile(\n",
    "    loss=MeanSquaredError(),\n",
    "    optimizer=Adam(learning_rate=0.001),\n",
    "    metrics=[keras.metrics.RootMeanSquaredError()],\n",
    ")\n",
    "\n",
    "model.fit(\n",
    "    x=x_train,\n",
    "    y=y_train,\n",
    "    validation_data=(x_val, y_val),\n",
    "    epochs=5,\n",
    "    #makes the training stop early if it notices no improvements on the validation set 10 times in a row, to prevent overfitting\n",
    "    callbacks=[keras.callbacks.EarlyStopping(patience=10)],\n",
    ")\n",
    "\n",
    "# make predictions\n",
    "trainPredict = model.predict(x_train)\n",
    "testPredict = model.predict(x_test)\n",
    "# invert predictions\n",
    "trainPredict = scaler.inverse_transform(trainPredict)\n",
    "trainY = scaler.inverse_transform(y_train)\n",
    "testPredict = scaler.inverse_transform(testPredict)\n",
    "testY = scaler.inverse_transform(y_test)\n",
    "# calculate root mean squared error\n",
    "trainScore = np.sqrt(mean_squared_error(trainY, trainPredict))\n",
    "print(f'Train Score: {trainScore:.2f} RMSE')\n",
    "testScore = np.sqrt(mean_squared_error(testY, testPredict))\n",
    "print(f'Test Score: {testScore:.2f} RMSE')"
   ]
  },
  {
   "cell_type": "code",
   "execution_count": null,
   "metadata": {},
   "outputs": [],
   "source": []
  }
 ],
 "metadata": {
  "kernelspec": {
   "display_name": "Python 3",
   "language": "python",
   "name": "python3"
  },
  "language_info": {
   "codemirror_mode": {
    "name": "ipython",
    "version": 3
   },
   "file_extension": ".py",
   "mimetype": "text/x-python",
   "name": "python",
   "nbconvert_exporter": "python",
   "pygments_lexer": "ipython3",
   "version": "3.10.10"
  },
  "orig_nbformat": 4
 },
 "nbformat": 4,
 "nbformat_minor": 2
}
